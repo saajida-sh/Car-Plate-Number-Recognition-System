{
 "cells": [
  {
   "cell_type": "code",
   "execution_count": 1,
   "id": "85558654",
   "metadata": {},
   "outputs": [],
   "source": [
    "import os\n",
    "import xml.etree.ElementTree as ET\n",
    "from glob import glob\n",
    "from PIL import Image"
   ]
  },
  {
   "cell_type": "code",
   "execution_count": 2,
   "id": "096ac324",
   "metadata": {},
   "outputs": [],
   "source": [
    "# Function to convert XML annotations to YOLO format\n",
    "def convert_xml_to_yolo(xml_file, image_file):\n",
    "    info = ET.parse(xml_file)\n",
    "    root = info.getroot()\n",
    "\n",
    "    # Get image dimensions\n",
    "    with Image.open(image_file) as img:\n",
    "        image_width, image_height = img.size\n",
    "\n",
    "    yolo_annotations = []\n",
    "\n",
    "    # Find 'object' tags\n",
    "    for member_object in root.findall('object'):\n",
    "        labels_info = member_object.find('bndbox')\n",
    "        xmin = int(labels_info.find('xmin').text)\n",
    "        xmax = int(labels_info.find('xmax').text)\n",
    "        ymin = int(labels_info.find('ymin').text)\n",
    "        ymax = int(labels_info.find('ymax').text)\n",
    "\n",
    "        # Calculate YOLO format values\n",
    "        x_center = (xmin + xmax) / 2 / image_width\n",
    "        y_center = (ymin + ymax) / 2 / image_height\n",
    "        width = (xmax - xmin) / image_width\n",
    "        height = (ymax - ymin) / image_height\n",
    "\n",
    "        # Append YOLO format data\n",
    "        yolo_annotations.append(f\"0 {x_center} {y_center} {width} {height}\") \n",
    "\n",
    "    return yolo_annotations"
   ]
  },
  {
   "cell_type": "code",
   "execution_count": 3,
   "id": "9d52a17f",
   "metadata": {},
   "outputs": [],
   "source": [
    "# Define paths for train and val folders\n",
    "train_folder = 'car_plate_yolo/train'\n",
    "val_folder = 'car_plate_yolo/val'"
   ]
  },
  {
   "cell_type": "code",
   "execution_count": 5,
   "id": "f55f0ece",
   "metadata": {},
   "outputs": [
    {
     "name": "stdout",
     "output_type": "stream",
     "text": [
      "XML annotations converted to YOLO format successfully.\n"
     ]
    }
   ],
   "source": [
    "# Convert XML annotations for training\n",
    "for xml_file in glob(os.path.join(train_folder, '*.xml')):\n",
    "    # Check for both .jpg and .png image files\n",
    "    image_file_jpg = os.path.splitext(xml_file)[0] + '.jpeg'\n",
    "    image_file_png = os.path.splitext(xml_file)[0] + '.png'\n",
    "    \n",
    "    if os.path.exists(image_file_jpg):\n",
    "        yolo_annotations = convert_xml_to_yolo(xml_file, image_file_jpg)\n",
    "        yolo_annotation_file = os.path.splitext(image_file_jpg)[0] + '.txt'\n",
    "        with open(yolo_annotation_file, 'w') as f:\n",
    "            for annotation in yolo_annotations:\n",
    "                f.write(annotation + '\\n')\n",
    "    elif os.path.exists(image_file_png):\n",
    "        yolo_annotations = convert_xml_to_yolo(xml_file, image_file_png)\n",
    "        yolo_annotation_file = os.path.splitext(image_file_png)[0] + '.txt'\n",
    "        with open(yolo_annotation_file, 'w') as f:\n",
    "            for annotation in yolo_annotations:\n",
    "                f.write(annotation + '\\n')\n",
    "\n",
    "# Convert XML annotations for validation\n",
    "for xml_file in glob(os.path.join(val_folder, '*.xml')):\n",
    "    # Check for both .jpg and .png image files\n",
    "    image_file_jpg = os.path.splitext(xml_file)[0] + '.jpeg'\n",
    "    image_file_png = os.path.splitext(xml_file)[0] + '.png'\n",
    "    \n",
    "    if os.path.exists(image_file_jpg):\n",
    "        yolo_annotations = convert_xml_to_yolo(xml_file, image_file_jpg)\n",
    "        yolo_annotation_file = os.path.splitext(image_file_jpg)[0] + '.txt'\n",
    "        with open(yolo_annotation_file, 'w') as f:\n",
    "            for annotation in yolo_annotations:\n",
    "                f.write(annotation + '\\n')\n",
    "    elif os.path.exists(image_file_png):\n",
    "        yolo_annotations = convert_xml_to_yolo(xml_file, image_file_png)\n",
    "        yolo_annotation_file = os.path.splitext(image_file_png)[0] + '.txt'\n",
    "        with open(yolo_annotation_file, 'w') as f:\n",
    "            for annotation in yolo_annotations:\n",
    "                f.write(annotation + '\\n')\n",
    "\n",
    "print(\"XML annotations converted to YOLO format successfully.\")"
   ]
  },
  {
   "cell_type": "code",
   "execution_count": null,
   "id": "5c081eb8",
   "metadata": {},
   "outputs": [],
   "source": [
    "# Create custom_data.yaml file\n",
    "yaml_content = \"\"\"\n",
    "train: car_plate_yolo/train  # Path to training images\n",
    "val: car_plate_yolo/val      # Path to validation images\n",
    "\n",
    "nc: 1  # Number of classes\n",
    "names: ['car_plate']  # List of class names\n",
    "\"\"\""
   ]
  },
  {
   "cell_type": "code",
   "execution_count": 8,
   "id": "0722c5f7",
   "metadata": {},
   "outputs": [
    {
     "name": "stdout",
     "output_type": "stream",
     "text": [
      "custom_data.yaml file created successfully.\n"
     ]
    }
   ],
   "source": [
    "# Write the custom_data.yaml file\n",
    "with open('car_plate_yolo/custom_data.yaml', 'w') as file:\n",
    "    file.write(yaml_content)\n",
    "\n",
    "print(\"custom_data.yaml file created successfully.\")"
   ]
  }
 ],
 "metadata": {
  "kernelspec": {
   "display_name": "Python 3 (ipykernel)",
   "language": "python",
   "name": "python3"
  },
  "language_info": {
   "codemirror_mode": {
    "name": "ipython",
    "version": 3
   },
   "file_extension": ".py",
   "mimetype": "text/x-python",
   "name": "python",
   "nbconvert_exporter": "python",
   "pygments_lexer": "ipython3",
   "version": "3.11.0"
  }
 },
 "nbformat": 4,
 "nbformat_minor": 5
}
